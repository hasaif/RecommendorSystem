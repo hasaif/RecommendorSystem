{
 "cells": [
  {
   "cell_type": "code",
   "execution_count": 127,
   "metadata": {},
   "outputs": [],
   "source": [
    "import numpy as np  \n",
    "import pandas as pd\n",
    "import matplotlib.pyplot as plt\n",
    "from math import sqrt"
   ]
  },
  {
   "cell_type": "code",
   "execution_count": 128,
   "metadata": {},
   "outputs": [],
   "source": [
    "#Reading ratings file:\n",
    "r_cols = ['user_id', 'movie_id', 'rating', 'unix_timestamp']\n",
    "ratings = pd.read_csv('ml-100k/u.data', sep='\\t', names=r_cols, encoding='latin-1')\n",
    "\n",
    "# split the ratings into training and test\n",
    "ratings_training = ratings.sample(frac=0.7)\n",
    "ratings_test = ratings.drop(ratings_training.index)\n",
    "\n",
    "#Reading items file:\n",
    "i_cols = ['movie_id', 'movie title' ,'release date','video release date', 'IMDb URL', 'unknown', 'Action', 'Adventure',\n",
    " 'Animation', 'Children\\'s', 'Comedy', 'Crime', 'Documentary', 'Drama', 'Fantasy',\n",
    " 'Film-Noir', 'Horror', 'Musical', 'Mystery', 'Romance', 'Sci-Fi', 'Thriller', 'War', 'Western']\n",
    "items = pd.read_csv('ml-100k/u.item', sep='|', names=i_cols, encoding='latin-1')\n",
    "\n",
    "#Merging ratings and items:\n",
    "movie_data = pd.merge(ratings_training, items, on='movie_id')  \n",
    "movie_data = movie_data.drop(['unix_timestamp', 'release date', 'video release date', 'IMDb URL'], axis=1)\n",
    "mean = pd.DataFrame(movie_data.groupby('user_id')['rating'].mean()).reset_index()"
   ]
  },
  {
   "cell_type": "code",
   "execution_count": 129,
   "metadata": {},
   "outputs": [],
   "source": [
    "#create user profile\n",
    "def user_vector(user):\n",
    "    #filter movie data to only show user ratings\n",
    "    #set movie title to index\n",
    "    user_ratings = movie_data[movie_data['user_id']==user].set_index('movie title')\n",
    "    user_ratings = user_ratings.drop(['user_id', 'movie_id'], axis=1)\n",
    "\n",
    "    #calculate user mean\n",
    "    #subtract each item rating by mean to normalize ratings\n",
    "    #multiply content attributes by rating \n",
    "    userMean = mean[mean['user_id']==user].rating[user-1]\n",
    "    ratings = user_ratings['rating']\n",
    "    ratings -= userMean\n",
    "    normalized_ratings = user_ratings.mul(user_ratings['rating'], axis=0).drop(['rating'], axis=1)\n",
    "\n",
    "    #sum all movie vectors to compute user profile\n",
    "    user_profile = normalized_ratings.sum(axis = 0, skipna = True) \n",
    "    #normalize user profile\n",
    "    user_profile = user_profile / user_profile.sum()\n",
    "    return user_profile.to_frame()"
   ]
  },
  {
   "cell_type": "code",
   "execution_count": 219,
   "metadata": {},
   "outputs": [],
   "source": [
    "#make recommendations\n",
    "def recommend(user):\n",
    "    user_profile = user_vector(user)\n",
    "\n",
    "    #item profiles \n",
    "    item_profiles = items.drop(['release date','movie title', 'movie_id','video release date', 'IMDb URL'],axis=1).reset_index(drop=True)\n",
    "\n",
    "    #estimate item ratings\n",
    "    #sort and recommend top 10 ratings\n",
    "    ratings = item_profiles.dot(user_profile).set_index(items.set_index('movie title').index)\n",
    "    ratings.columns = [user]\n",
    "    ratings = ratings.sort_values(by=[user],ascending=False)\n",
    "    ratings = ratings[ratings[user]>0]\n",
    "    highest_rating = ratings.max()\n",
    "    ratings = ratings.mul(5/highest_rating, axis=1)\n",
    "    return ratings"
   ]
  },
  {
   "cell_type": "code",
   "execution_count": 220,
   "metadata": {},
   "outputs": [],
   "source": [
    "def error(user):\n",
    "    # filter by user test ratings\n",
    "    user_test_data = ratings_test[ratings_test['user_id']==user]\n",
    "    test_data = pd.merge(user_test_data, items, on='movie_id')  \n",
    "    test_data = test_data.drop(['unix_timestamp', 'release date','video release date', 'IMDb URL', 'unknown', 'Action', 'Adventure',\n",
    "     'Animation', 'Children\\'s', 'Comedy', 'Crime', 'Documentary', 'Drama', 'Fantasy',\n",
    "     'Film-Noir', 'Horror', 'Musical', 'Mystery', 'Romance', 'Sci-Fi', 'Thriller', 'War', 'Western','movie_id'], axis=1)\n",
    "    test_data = test_data.pivot(index='movie title', columns='user_id', values='rating')\n",
    "\n",
    "    # find estimated ratings from training data\n",
    "    training_data = recommend(user)\n",
    "\n",
    "    #calculate root mean squared error \n",
    "    return sqrt(test_data.subtract(training_data, axis=1).pow(2).dropna().mean())"
   ]
  },
  {
   "cell_type": "code",
   "execution_count": 223,
   "metadata": {},
   "outputs": [
    {
     "data": {
      "text/plain": [
       "2.131540137507776"
      ]
     },
     "execution_count": 223,
     "metadata": {},
     "output_type": "execute_result"
    }
   ],
   "source": [
    "error(313)"
   ]
  },
  {
   "cell_type": "code",
   "execution_count": 221,
   "metadata": {},
   "outputs": [
    {
     "data": {
      "text/html": [
       "<div>\n",
       "<style scoped>\n",
       "    .dataframe tbody tr th:only-of-type {\n",
       "        vertical-align: middle;\n",
       "    }\n",
       "\n",
       "    .dataframe tbody tr th {\n",
       "        vertical-align: top;\n",
       "    }\n",
       "\n",
       "    .dataframe thead th {\n",
       "        text-align: right;\n",
       "    }\n",
       "</style>\n",
       "<table border=\"1\" class=\"dataframe\">\n",
       "  <thead>\n",
       "    <tr style=\"text-align: right;\">\n",
       "      <th></th>\n",
       "      <th>review count</th>\n",
       "    </tr>\n",
       "    <tr>\n",
       "      <th>user</th>\n",
       "      <th></th>\n",
       "    </tr>\n",
       "  </thead>\n",
       "  <tbody>\n",
       "    <tr>\n",
       "      <th>405</th>\n",
       "      <td>516</td>\n",
       "    </tr>\n",
       "    <tr>\n",
       "      <th>655</th>\n",
       "      <td>491</td>\n",
       "    </tr>\n",
       "    <tr>\n",
       "      <th>13</th>\n",
       "      <td>472</td>\n",
       "    </tr>\n",
       "    <tr>\n",
       "      <th>450</th>\n",
       "      <td>373</td>\n",
       "    </tr>\n",
       "    <tr>\n",
       "      <th>276</th>\n",
       "      <td>354</td>\n",
       "    </tr>\n",
       "    <tr>\n",
       "      <th>234</th>\n",
       "      <td>350</td>\n",
       "    </tr>\n",
       "    <tr>\n",
       "      <th>303</th>\n",
       "      <td>346</td>\n",
       "    </tr>\n",
       "    <tr>\n",
       "      <th>416</th>\n",
       "      <td>337</td>\n",
       "    </tr>\n",
       "    <tr>\n",
       "      <th>537</th>\n",
       "      <td>337</td>\n",
       "    </tr>\n",
       "    <tr>\n",
       "      <th>279</th>\n",
       "      <td>324</td>\n",
       "    </tr>\n",
       "  </tbody>\n",
       "</table>\n",
       "</div>"
      ],
      "text/plain": [
       "      review count\n",
       "user              \n",
       "405            516\n",
       "655            491\n",
       "13             472\n",
       "450            373\n",
       "276            354\n",
       "234            350\n",
       "303            346\n",
       "416            337\n",
       "537            337\n",
       "279            324"
      ]
     },
     "execution_count": 221,
     "metadata": {},
     "output_type": "execute_result"
    }
   ],
   "source": [
    "userMean = mean[mean['user_id']==197]\n",
    "user_ratings = movie_data[movie_data['user_id']==197].set_index('movie title')\n",
    "user_ratings = user_ratings.drop(['user_id', 'movie_id'], axis=1)\n",
    "\n",
    "def count(user):\n",
    "    number = movie_data[movie_data['user_id']==user].set_index('movie title')\n",
    "    count = number['user_id'].count()\n",
    "    return [user,count]\n",
    "review_count = []\n",
    "for i in range(1,944):\n",
    "     review_count.append(count(i))\n",
    "\n",
    "review_count_df =pd.DataFrame(review_count,columns=['user','review count']).set_index('user').sort_values(by=['review count'],ascending=False)\n",
    "review_count_df.head(10)"
   ]
  },
  {
   "cell_type": "code",
   "execution_count": null,
   "metadata": {},
   "outputs": [],
   "source": []
  },
  {
   "cell_type": "code",
   "execution_count": null,
   "metadata": {},
   "outputs": [],
   "source": []
  }
 ],
 "metadata": {
  "kernelspec": {
   "display_name": "Python 2",
   "language": "python",
   "name": "python2"
  },
  "language_info": {
   "codemirror_mode": {
    "name": "ipython",
    "version": 2
   },
   "file_extension": ".py",
   "mimetype": "text/x-python",
   "name": "python",
   "nbconvert_exporter": "python",
   "pygments_lexer": "ipython2",
   "version": "2.7.15"
  }
 },
 "nbformat": 4,
 "nbformat_minor": 2
}
