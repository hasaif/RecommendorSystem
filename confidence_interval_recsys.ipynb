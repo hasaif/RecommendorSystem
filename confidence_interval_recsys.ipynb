{
 "cells": [
  {
   "cell_type": "code",
   "execution_count": 3,
   "metadata": {},
   "outputs": [
    {
     "data": {
      "text/html": [
       "<div>\n",
       "<style scoped>\n",
       "    .dataframe tbody tr th:only-of-type {\n",
       "        vertical-align: middle;\n",
       "    }\n",
       "\n",
       "    .dataframe tbody tr th {\n",
       "        vertical-align: top;\n",
       "    }\n",
       "\n",
       "    .dataframe thead th {\n",
       "        text-align: right;\n",
       "    }\n",
       "</style>\n",
       "<table border=\"1\" class=\"dataframe\">\n",
       "  <thead>\n",
       "    <tr style=\"text-align: right;\">\n",
       "      <th></th>\n",
       "      <th>userId</th>\n",
       "      <th>movieId</th>\n",
       "      <th>rating</th>\n",
       "      <th>timestamp</th>\n",
       "      <th>title</th>\n",
       "      <th>genres</th>\n",
       "    </tr>\n",
       "  </thead>\n",
       "  <tbody>\n",
       "    <tr>\n",
       "      <th>0</th>\n",
       "      <td>1</td>\n",
       "      <td>1</td>\n",
       "      <td>4.0</td>\n",
       "      <td>964982703</td>\n",
       "      <td>Toy Story (1995)</td>\n",
       "      <td>Adventure|Animation|Children|Comedy|Fantasy</td>\n",
       "    </tr>\n",
       "    <tr>\n",
       "      <th>1</th>\n",
       "      <td>5</td>\n",
       "      <td>1</td>\n",
       "      <td>4.0</td>\n",
       "      <td>847434962</td>\n",
       "      <td>Toy Story (1995)</td>\n",
       "      <td>Adventure|Animation|Children|Comedy|Fantasy</td>\n",
       "    </tr>\n",
       "    <tr>\n",
       "      <th>2</th>\n",
       "      <td>7</td>\n",
       "      <td>1</td>\n",
       "      <td>4.5</td>\n",
       "      <td>1106635946</td>\n",
       "      <td>Toy Story (1995)</td>\n",
       "      <td>Adventure|Animation|Children|Comedy|Fantasy</td>\n",
       "    </tr>\n",
       "    <tr>\n",
       "      <th>3</th>\n",
       "      <td>15</td>\n",
       "      <td>1</td>\n",
       "      <td>2.5</td>\n",
       "      <td>1510577970</td>\n",
       "      <td>Toy Story (1995)</td>\n",
       "      <td>Adventure|Animation|Children|Comedy|Fantasy</td>\n",
       "    </tr>\n",
       "    <tr>\n",
       "      <th>4</th>\n",
       "      <td>17</td>\n",
       "      <td>1</td>\n",
       "      <td>4.5</td>\n",
       "      <td>1305696483</td>\n",
       "      <td>Toy Story (1995)</td>\n",
       "      <td>Adventure|Animation|Children|Comedy|Fantasy</td>\n",
       "    </tr>\n",
       "  </tbody>\n",
       "</table>\n",
       "</div>"
      ],
      "text/plain": [
       "   userId  movieId  rating   timestamp             title  \\\n",
       "0       1        1     4.0   964982703  Toy Story (1995)   \n",
       "1       5        1     4.0   847434962  Toy Story (1995)   \n",
       "2       7        1     4.5  1106635946  Toy Story (1995)   \n",
       "3      15        1     2.5  1510577970  Toy Story (1995)   \n",
       "4      17        1     4.5  1305696483  Toy Story (1995)   \n",
       "\n",
       "                                        genres  \n",
       "0  Adventure|Animation|Children|Comedy|Fantasy  \n",
       "1  Adventure|Animation|Children|Comedy|Fantasy  \n",
       "2  Adventure|Animation|Children|Comedy|Fantasy  \n",
       "3  Adventure|Animation|Children|Comedy|Fantasy  \n",
       "4  Adventure|Animation|Children|Comedy|Fantasy  "
      ]
     },
     "execution_count": 3,
     "metadata": {},
     "output_type": "execute_result"
    }
   ],
   "source": [
    "import numpy as np  \n",
    "import pandas as pd\n",
    "import matplotlib.pyplot as plt\n",
    "from scipy.stats import sem, t\n",
    "\n",
    "ratings_data = pd.read_csv(\"ml-latest-small\\\\ratings.csv\")  \n",
    "movie_names = pd.read_csv(\"ml-latest-small\\\\movies.csv\")  \n",
    "movie_data = pd.merge(ratings_data, movie_names, on='movieId')  \n",
    "movie_data.head()"
   ]
  },
  {
   "cell_type": "code",
   "execution_count": 58,
   "metadata": {},
   "outputs": [
    {
     "name": "stdout",
     "output_type": "stream",
     "text": [
      "2.30217288664 1.0295630141\n"
     ]
    }
   ],
   "source": [
    "data = {'numbers':[2,5,6,7,8]}\n",
    "df = pd.DataFrame(data)\n",
    "n = len(df)\n",
    "m = df['numbers'].mean()\n",
    "x = 0\n",
    "for i in df['numbers']:\n",
    "    x += (i - m)**2\n",
    "\n",
    "variance = x / (n-1)\n",
    "sd = variance**(0.5)\n",
    "\n",
    "sd_of_sd = sd / n**0.5\n",
    "print sd, sd_of_sd\n"
   ]
  },
  {
   "cell_type": "code",
   "execution_count": null,
   "metadata": {},
   "outputs": [],
   "source": []
  },
  {
   "cell_type": "code",
   "execution_count": 75,
   "metadata": {},
   "outputs": [],
   "source": [
    "#https://en.wikipedia.org/wiki/Confidence_interval\n",
    "#othman\n",
    "confidence = 0.9\n",
    "def confidence_interval(data):\n",
    "    n = len(data)\n",
    "    mean = data.mean()\n",
    "    std_err = sem(data)\n",
    "    x = 0\n",
    "    for i in data:\n",
    "        x += (i - mean)**2\n",
    "    \n",
    "    if(n>1):\n",
    "        variance = x / (n-1)\n",
    "        sd = variance**(0.5)\n",
    "        sd_of_sd = sd / n**0.5\n",
    "#         print sd_of_sd\n",
    "#         print std_err\n",
    "    \n",
    "    # multiply sd by t value (takes degrees of freedom and confidence interval to find value)\n",
    "    return std_err * t.ppf((1 + confidence) / 2, n - 1)\n",
    "    \n",
    "    \n",
    "ratings = pd.DataFrame(movie_data.groupby('title')['rating'].mean()) \n",
    "ratings['count']= pd.DataFrame(movie_data.groupby('title')['rating'].count())\n",
    "ratings['error']= pd.DataFrame(movie_data.groupby('title')['rating'].apply(confidence_interval)) \n",
    "# how can write a function that takes the values of another column in the dataframe to make a calculation. \n",
    "# I would like to find a way to write a function to calculate all the attributes and write them into different columns. \n",
    "# ratings['start'] = ratings['rating'] - ratings['h']\n",
    "# ratings['end'] = ratings['rating'] + ratings['h']\n",
    "# ratings['interval'] = ratings['end'] - ratings['start']\n",
    "ratings['variance'] = pd.DataFrame(movie_data.groupby('title')['rating'].var())\n",
    "\n",
    "# remove all values with error value less than zero \n",
    "ratings = ratings[ratings['error']>0]"
   ]
  },
  {
   "cell_type": "code",
   "execution_count": 70,
   "metadata": {},
   "outputs": [
    {
     "data": {
      "text/html": [
       "<div>\n",
       "<style scoped>\n",
       "    .dataframe tbody tr th:only-of-type {\n",
       "        vertical-align: middle;\n",
       "    }\n",
       "\n",
       "    .dataframe tbody tr th {\n",
       "        vertical-align: top;\n",
       "    }\n",
       "\n",
       "    .dataframe thead th {\n",
       "        text-align: right;\n",
       "    }\n",
       "</style>\n",
       "<table border=\"1\" class=\"dataframe\">\n",
       "  <thead>\n",
       "    <tr style=\"text-align: right;\">\n",
       "      <th></th>\n",
       "      <th>rating</th>\n",
       "      <th>count</th>\n",
       "      <th>error</th>\n",
       "      <th>variance</th>\n",
       "    </tr>\n",
       "    <tr>\n",
       "      <th>title</th>\n",
       "      <th></th>\n",
       "      <th></th>\n",
       "      <th></th>\n",
       "      <th></th>\n",
       "    </tr>\n",
       "  </thead>\n",
       "  <tbody>\n",
       "    <tr>\n",
       "      <th>Kwaidan (Kaidan) (1964)</th>\n",
       "      <td>2.50</td>\n",
       "      <td>2</td>\n",
       "      <td>12.627503</td>\n",
       "      <td>8.000</td>\n",
       "    </tr>\n",
       "    <tr>\n",
       "      <th>Emma (2009)</th>\n",
       "      <td>2.50</td>\n",
       "      <td>2</td>\n",
       "      <td>12.627503</td>\n",
       "      <td>8.000</td>\n",
       "    </tr>\n",
       "    <tr>\n",
       "      <th>Lassie (1994)</th>\n",
       "      <td>3.00</td>\n",
       "      <td>2</td>\n",
       "      <td>12.627503</td>\n",
       "      <td>8.000</td>\n",
       "    </tr>\n",
       "    <tr>\n",
       "      <th>Ivan's Childhood (a.k.a. My Name is Ivan) (Ivanovo detstvo) (1962)</th>\n",
       "      <td>2.75</td>\n",
       "      <td>2</td>\n",
       "      <td>14.205941</td>\n",
       "      <td>10.125</td>\n",
       "    </tr>\n",
       "    <tr>\n",
       "      <th>Fanny and Alexander (Fanny och Alexander) (1982)</th>\n",
       "      <td>2.75</td>\n",
       "      <td>2</td>\n",
       "      <td>14.205941</td>\n",
       "      <td>10.125</td>\n",
       "    </tr>\n",
       "  </tbody>\n",
       "</table>\n",
       "</div>"
      ],
      "text/plain": [
       "                                                    rating  count      error  \\\n",
       "title                                                                          \n",
       "Kwaidan (Kaidan) (1964)                               2.50      2  12.627503   \n",
       "Emma (2009)                                           2.50      2  12.627503   \n",
       "Lassie (1994)                                         3.00      2  12.627503   \n",
       "Ivan's Childhood (a.k.a. My Name is Ivan) (Ivan...    2.75      2  14.205941   \n",
       "Fanny and Alexander (Fanny och Alexander) (1982)      2.75      2  14.205941   \n",
       "\n",
       "                                                    variance  \n",
       "title                                                         \n",
       "Kwaidan (Kaidan) (1964)                                8.000  \n",
       "Emma (2009)                                            8.000  \n",
       "Lassie (1994)                                          8.000  \n",
       "Ivan's Childhood (a.k.a. My Name is Ivan) (Ivan...    10.125  \n",
       "Fanny and Alexander (Fanny och Alexander) (1982)      10.125  "
      ]
     },
     "execution_count": 70,
     "metadata": {},
     "output_type": "execute_result"
    }
   ],
   "source": [
    "ratings.sort_values(by=['error']).tail()"
   ]
  },
  {
   "cell_type": "code",
   "execution_count": 71,
   "metadata": {},
   "outputs": [
    {
     "data": {
      "text/plain": [
       "(Text(0.5,0,'Count'), Text(0,0.5,'error'))"
      ]
     },
     "execution_count": 71,
     "metadata": {},
     "output_type": "execute_result"
    },
    {
     "data": {
      "image/png": "[encoded data removed]",
      "text/plain": [
       "<Figure size 432x288 with 1 Axes>"
      ]
     },
     "metadata": {
      "needs_background": "light"
     },
     "output_type": "display_data"
    }
   ],
   "source": [
    "plt.scatter(ratings['count'], ratings['error'], c='b', alpha=0.2)\n",
    "plt.xlabel('Count'), plt.ylabel('error')"
   ]
  },
  {
   "cell_type": "code",
   "execution_count": 72,
   "metadata": {},
   "outputs": [
    {
     "data": {
      "text/plain": [
       "(Text(0.5,0,'Variance'), Text(0,0.5,'error'))"
      ]
     },
     "execution_count": 72,
     "metadata": {},
     "output_type": "execute_result"
    },
    {
     "data": {
      "image/png": "[encoded data removed]",
      "text/plain": [
       "<Figure size 432x288 with 1 Axes>"
      ]
     },
     "metadata": {
      "needs_background": "light"
     },
     "output_type": "display_data"
    }
   ],
   "source": [
    "plt.scatter(ratings['variance'], ratings['error'], c='g', alpha=0.1)\n",
    "plt.xlabel('Variance'), plt.ylabel('error')"
   ]
  },
  {
   "cell_type": "code",
   "execution_count": null,
   "metadata": {},
   "outputs": [],
   "source": []
  },
  {
   "cell_type": "code",
   "execution_count": 73,
   "metadata": {},
   "outputs": [
    {
     "data": {
      "text/plain": [
       "(Text(0.5,0,'Variance'), Text(0,0.5,'error'))"
      ]
     },
     "execution_count": 73,
     "metadata": {},
     "output_type": "execute_result"
    },
    {
     "data": {
      "image/png": "[encoded data removed]",
      "text/plain": [
       "<Figure size 432x288 with 1 Axes>"
      ]
     },
     "metadata": {
      "needs_background": "light"
     },
     "output_type": "display_data"
    }
   ],
   "source": [
    "ratings = ratings[ratings['count']>10]\n",
    "plt.scatter(ratings['variance'], ratings['error'], s=ratings['count'], c='r', alpha=0.1)\n",
    "plt.xlabel('Variance'), plt.ylabel('error')"
   ]
  },
  {
   "cell_type": "code",
   "execution_count": null,
   "metadata": {},
   "outputs": [],
   "source": []
  }
 ],
 "metadata": {
  "kernelspec": {
   "display_name": "Python 2",
   "language": "python",
   "name": "python2"
  },
  "language_info": {
   "codemirror_mode": {
    "name": "ipython",
    "version": 2
   },
   "file_extension": ".py",
   "mimetype": "text/x-python",
   "name": "python",
   "nbconvert_exporter": "python",
   "pygments_lexer": "ipython2",
   "version": "2.7.15"
  }
 },
 "nbformat": 4,
 "nbformat_minor": 2
}
